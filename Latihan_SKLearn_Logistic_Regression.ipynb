{
  "nbformat": 4,
  "nbformat_minor": 0,
  "metadata": {
    "colab": {
      "name": "Latihan SKLearn - Logistic Regression",
      "provenance": [],
      "authorship_tag": "ABX9TyO0m8MjhJBvb7s0qtG6Lk67",
      "include_colab_link": true
    },
    "kernelspec": {
      "name": "python3",
      "display_name": "Python 3"
    }
  },
  "cells": [
    {
      "cell_type": "markdown",
      "metadata": {
        "id": "view-in-github",
        "colab_type": "text"
      },
      "source": [
        "<a href=\"https://colab.research.google.com/github/Tambunan26/Machine-Learning/blob/master/Latihan_SKLearn_Logistic_Regression.ipynb\" target=\"_parent\"><img src=\"https://colab.research.google.com/assets/colab-badge.svg\" alt=\"Open In Colab\"/></a>"
      ]
    },
    {
      "cell_type": "code",
      "metadata": {
        "id": "wIV3ysNRuT0C",
        "colab_type": "code",
        "colab": {
          "base_uri": "https://localhost:8080/",
          "height": 235
        },
        "outputId": "53ede3ce-ce6b-41f6-ec00-a49a8913afa2"
      },
      "source": [
        "# Mengubah dataset menjadi dataframe Pandas\n",
        "import pandas as pd\n",
        "from sklearn.model_selection import train_test_split\n",
        "from sklearn.preprocessing import StandardScaler\n",
        "df = pd.read_csv('Social_Network_Ads.csv')\n",
        "# Melihat 5 baris pertama dari dataset\n",
        "df.head()\n",
        "# Melihat apakah ada nilai yang kosong pada setiap atribut\n",
        "df.info()\n",
        "# Menghilangkan kolom tidak penting dari dataframe (kolom 'User ID')\n",
        "data = df.drop(columns=['User ID'])\n",
        "data = pd.get_dummies(data)\n",
        "data\n",
        "# Memisahkan antara atribut dan label\n",
        "predictions = ['Age' , 'EstimatedSalary' , 'Gender_Female' , 'Gender_Male']\n",
        "x = data[predictions]\n",
        "y = data['Purchased']\n",
        "# Membagi data menjadi train set dan test set dengan fungsi train_test_split yang disediakan SKLearn\n",
        "x_train, x_test, y_train, y_test = train_test_split(x, y, test_size=0.25, random_state=42)\n",
        "# Membuat model dengan membuat objek logistic regression\n",
        "from sklearn import linear_model\n",
        "model = linear_model.LogisticRegression()\n",
        "# Melatih model\n",
        "model.fit(x_train, y_train)\n",
        "# Menguji akurasi model pada test set dengan memanggil fungsi score() pada objek model\n",
        "model.score(x_test, y_test)\n",
        "\n",
        "\n",
        "# https://www.kaggle.com/dragonheir/logistic-regression?select=Social_Network_Ads.csv (Link File 'Social_Network_Ads.csv' )"
      ],
      "execution_count": 1,
      "outputs": [
        {
          "output_type": "stream",
          "text": [
            "<class 'pandas.core.frame.DataFrame'>\n",
            "RangeIndex: 400 entries, 0 to 399\n",
            "Data columns (total 5 columns):\n",
            " #   Column           Non-Null Count  Dtype \n",
            "---  ------           --------------  ----- \n",
            " 0   User ID          400 non-null    int64 \n",
            " 1   Gender           400 non-null    object\n",
            " 2   Age              400 non-null    int64 \n",
            " 3   EstimatedSalary  400 non-null    int64 \n",
            " 4   Purchased        400 non-null    int64 \n",
            "dtypes: int64(4), object(1)\n",
            "memory usage: 15.8+ KB\n"
          ],
          "name": "stdout"
        },
        {
          "output_type": "execute_result",
          "data": {
            "text/plain": [
              "0.63"
            ]
          },
          "metadata": {
            "tags": []
          },
          "execution_count": 1
        }
      ]
    }
  ]
}