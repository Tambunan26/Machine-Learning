{
  "nbformat": 4,
  "nbformat_minor": 0,
  "metadata": {
    "colab": {
      "name": "Latihan SKLearn Train Test Split",
      "provenance": [],
      "authorship_tag": "ABX9TyOy2HWhmLcEP0EJAv7ot+Eb",
      "include_colab_link": true
    },
    "kernelspec": {
      "name": "python3",
      "display_name": "Python 3"
    }
  },
  "cells": [
    {
      "cell_type": "markdown",
      "metadata": {
        "id": "view-in-github",
        "colab_type": "text"
      },
      "source": [
        "<a href=\"https://colab.research.google.com/github/Tambunan26/Machine-Learning/blob/master/Latihan_SKLearn_Train_Test_Split.ipynb\" target=\"_parent\"><img src=\"https://colab.research.google.com/assets/colab-badge.svg\" alt=\"Open In Colab\"/></a>"
      ]
    },
    {
      "cell_type": "code",
      "metadata": {
        "id": "cjuGLWJsM68-",
        "colab_type": "code",
        "colab": {
          "base_uri": "https://localhost:8080/",
          "height": 34
        },
        "outputId": "bcc7395e-0535-4bf8-c756-d702a28701aa"
      },
      "source": [
        "import sklearn       #Menyediakan datasets iris yakni sebah datasets yang umum digunakan untuk masalah klasifikasi\n",
        "from sklearn import datasets\n",
        "from sklearn.model_selection import train_test_split\n",
        "iris = datasets.load_iris()\n",
        "x=iris.data       #Parameter x yaitu atribut dari dataset\n",
        "y=iris.target     #Parameter y yaitu target dari dataset\n",
        "x_train, x_test, y_train, y_test = train_test_split(x, y, test_size=0.2)    #Mengembalikan 4 nilai yaitu, atribut dari train set, atribut dari test set, target dari train set, dan target dari train set.\n",
        "len(x_test)"
      ],
      "execution_count": 4,
      "outputs": [
        {
          "output_type": "execute_result",
          "data": {
            "text/plain": [
              "120"
            ]
          },
          "metadata": {
            "tags": []
          },
          "execution_count": 4
        }
      ]
    }
  ]
}