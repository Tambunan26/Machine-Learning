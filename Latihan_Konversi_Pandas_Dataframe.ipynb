{
  "nbformat": 4,
  "nbformat_minor": 0,
  "metadata": {
    "colab": {
      "name": "Latihan Konversi Pandas Dataframe",
      "provenance": [],
      "collapsed_sections": [],
      "authorship_tag": "ABX9TyM8oD09DTi27Qp1FCiEzI0J",
      "include_colab_link": true
    },
    "kernelspec": {
      "name": "python3",
      "display_name": "Python 3"
    }
  },
  "cells": [
    {
      "cell_type": "markdown",
      "metadata": {
        "id": "view-in-github",
        "colab_type": "text"
      },
      "source": [
        "<a href=\"https://colab.research.google.com/github/Tambunan26/Machine-Learning/blob/master/Latihan_Konversi_Pandas_Dataframe.ipynb\" target=\"_parent\"><img src=\"https://colab.research.google.com/assets/colab-badge.svg\" alt=\"Open In Colab\"/></a>"
      ]
    },
    {
      "cell_type": "code",
      "metadata": {
        "id": "VjqXPdJu73R_",
        "colab_type": "code",
        "colab": {}
      },
      "source": [
        "import pandas as pd\n",
        "import os\n",
        "os.listdir('sample_data')\n",
        "df = pd.read_csv('sample_data/california_housing_test.csv')\n",
        "df.head()\n",
        "\n"
      ],
      "execution_count": null,
      "outputs": []
    }
  ]
}