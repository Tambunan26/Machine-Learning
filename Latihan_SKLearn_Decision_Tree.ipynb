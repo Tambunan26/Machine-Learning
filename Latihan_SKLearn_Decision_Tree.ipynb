{
  "nbformat": 4,
  "nbformat_minor": 0,
  "metadata": {
    "colab": {
      "name": "Latihan SKLearn Decision Tree",
      "provenance": [],
      "authorship_tag": "ABX9TyM9SdCbUl6kJJ9k7Oau68i+",
      "include_colab_link": true
    },
    "kernelspec": {
      "name": "python3",
      "display_name": "Python 3"
    }
  },
  "cells": [
    {
      "cell_type": "markdown",
      "metadata": {
        "id": "view-in-github",
        "colab_type": "text"
      },
      "source": [
        "<a href=\"https://colab.research.google.com/github/Tambunan26/Machine-Learning/blob/master/Latihan_SKLearn_Decision_Tree.ipynb\" target=\"_parent\"><img src=\"https://colab.research.google.com/assets/colab-badge.svg\" alt=\"Open In Colab\"/></a>"
      ]
    },
    {
      "cell_type": "code",
      "metadata": {
        "id": "B-z9KB-Zf6z2",
        "colab_type": "code",
        "colab": {
          "base_uri": "https://localhost:8080/",
          "height": 34
        },
        "outputId": "25260745-fff0-4f0e-9763-2b49728d140c"
      },
      "source": [
        "from sklearn.tree import DecisionTreeClassifier\n",
        "import pandas as pd\n",
        "from sklearn.datasets import load_iris\n",
        "# Konversi dataset menjadi dataframe pandas\n",
        "iris = pd.read_csv('Iris.csv')  \n",
        "#Melihat informasi mengenai data      \n",
        "iris.head()                         \n",
        "# Menghilangkan kolom yang tidak penting pada dataset yaitu kolom 'Id'  \n",
        "iris.drop('Id',axis=1,inplace=True) \n",
        "x = iris[['SepalLengthCm', 'SepalWidthCm', 'PetalLengthCm', 'PetalWidthCm']]\n",
        "y = iris['Species']\n",
        "# Membuat model Decision tree\n",
        "tree_model = DecisionTreeClassifier()\n",
        "# Melakukan pelatihan model terhadap data\n",
        "tree_model.fit(x, y)\n",
        "# Memprediksi spesies dari sebuah bunga iris\n",
        "# tree_model.predict([[SepalLength, SepalWidth, PetalLength, PetalWidth]])\n",
        "tree_model.predict([[6.2, 3.4, 5.4, 2.3]])\n",
        "\n",
        "# https://www.kaggle.com/uciml/iris (Link File Iris.csv)"
      ],
      "execution_count": 3,
      "outputs": [
        {
          "output_type": "execute_result",
          "data": {
            "text/plain": [
              "array(['Iris-virginica'], dtype=object)"
            ]
          },
          "metadata": {
            "tags": []
          },
          "execution_count": 3
        }
      ]
    }
  ]
}