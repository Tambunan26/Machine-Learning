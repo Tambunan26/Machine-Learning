{
  "nbformat": 4,
  "nbformat_minor": 0,
  "metadata": {
    "colab": {
      "name": "Data Preparation",
      "provenance": [],
      "authorship_tag": "ABX9TyNbGbCUUqzWNknCI4QH3qoB",
      "include_colab_link": true
    },
    "kernelspec": {
      "name": "python3",
      "display_name": "Python 3"
    }
  },
  "cells": [
    {
      "cell_type": "markdown",
      "metadata": {
        "id": "view-in-github",
        "colab_type": "text"
      },
      "source": [
        "<a href=\"https://colab.research.google.com/github/Tambunan26/Machine-Learning/blob/master/Data%20Preparation.ipynb\" target=\"_parent\"><img src=\"https://colab.research.google.com/assets/colab-badge.svg\" alt=\"Open In Colab\"/></a>"
      ]
    },
    {
      "cell_type": "code",
      "metadata": {
        "id": "cXiw9rT2Ct7H",
        "colab_type": "code",
        "colab": {
          "base_uri": "https://localhost:8080/",
          "height": 101
        },
        "outputId": "6043dbf7-4646-49d3-99e8-f036db1165be"
      },
      "source": [
        "from sklearn.preprocessing import MinMaxScaler      #Memetakan nilai-nilai ke dalam skala 0 sampai 1\n",
        "data = [[12000000, 33], [35000000, 45], [4000000, 23], [6500000,26], [9000000, 29]]\n",
        "scaler = MinMaxScaler()\n",
        "scaler.fit(data)        #Menghitung nilai minimum dan maksimum pada tiap kolom.\n",
        "print(scaler.transform(data))       #Mengaplikasikan scaler pada data."
      ],
      "execution_count": 5,
      "outputs": [
        {
          "output_type": "stream",
          "text": [
            "[[0.25806452 0.45454545]\n",
            " [1.         1.        ]\n",
            " [0.         0.        ]\n",
            " [0.08064516 0.13636364]\n",
            " [0.16129032 0.27272727]]\n"
          ],
          "name": "stdout"
        }
      ]
    },
    {
      "cell_type": "code",
      "metadata": {
        "id": "0Kg_GDpwHT88",
        "colab_type": "code",
        "colab": {
          "base_uri": "https://localhost:8080/",
          "height": 101
        },
        "outputId": "df8c06a3-e405-4eb2-f684-0bdd852de7dc"
      },
      "source": [
        "from sklearn import preprocessing       #Mengimport library preprocessing ddari scikit learn\n",
        "data = [[12000000, 33], [35000000, 45], [4000000, 23], [6500000,26], [9000000, 29]]\n",
        "scaler = preprocessing.StandardScaler().fit(data)       #Menghitung rata-rata dan deviasi standar dari setiap kolom\n",
        "data = scaler.transform(data)       #Mengaplikasikan standard scaler pada data\n",
        "data"
      ],
      "execution_count": 6,
      "outputs": [
        {
          "output_type": "execute_result",
          "data": {
            "text/plain": [
              "array([[-0.11638732,  0.23521877],\n",
              "       [ 1.94277296,  1.80334389],\n",
              "       [-0.83261698, -1.07155217],\n",
              "       [-0.60879521, -0.67952089],\n",
              "       [-0.38497344, -0.28748961]])"
            ]
          },
          "metadata": {
            "tags": []
          },
          "execution_count": 6
        }
      ]
    }
  ]
}